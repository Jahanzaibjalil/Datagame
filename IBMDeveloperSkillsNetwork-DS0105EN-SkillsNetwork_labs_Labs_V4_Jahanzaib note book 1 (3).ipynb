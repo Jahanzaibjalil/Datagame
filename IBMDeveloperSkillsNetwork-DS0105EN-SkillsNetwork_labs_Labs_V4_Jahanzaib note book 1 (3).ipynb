{
  "metadata": {
    "language_info": {
      "codemirror_mode": {
        "name": "python",
        "version": 3
      },
      "file_extension": ".py",
      "mimetype": "text/x-python",
      "name": "python",
      "nbconvert_exporter": "python",
      "pygments_lexer": "ipython3",
      "version": "3.8"
    },
    "kernelspec": {
      "name": "python",
      "display_name": "Python (Pyodide)",
      "language": "python"
    }
  },
  "nbformat_minor": 4,
  "nbformat": 4,
  "cells": [
    {
      "cell_type": "code",
      "source": "1) Tital\n#  Data Science Tools and Ecosystem",
      "metadata": {},
      "execution_count": null,
      "outputs": []
    },
    {
      "cell_type": "code",
      "source": "In this notebook, Data Science Tools and Ecosystem are summarized.",
      "metadata": {},
      "execution_count": null,
      "outputs": []
    },
    {
      "cell_type": "code",
      "source": "Some of the popular languages that Data Scientists use are\nPython\nR\nSQL\nJava\nJulia\nScala\nC/C++\nJavaScript\nSwift\nGo\nMATLAB\nSAS",
      "metadata": {},
      "execution_count": null,
      "outputs": []
    },
    {
      "cell_type": "code",
      "source": "data science libraries such as from the list below. \n\nPandas\n\nNumpy\n\nMatplotlib\n\nSeaborn\n\nScikit-learn\n\nKeras\n\nTensorFlow\n\nPyTorch\n\nApache Spark\n\nVegas\n\nBig DL\n\nGgplot2",
      "metadata": {},
      "execution_count": null,
      "outputs": []
    },
    {
      "cell_type": "code",
      "source": "data science tools\n\nAnaconda \n\njupyter note book\n\nApache Spark\n\nRapidMiner\n\nKNIME\n\nTableau\n\nApache Hadoop\n\nSAS\n\nTensorFlow\n\nMatplotlib\n\nProject Jupyter",
      "metadata": {},
      "execution_count": null,
      "outputs": []
    },
    {
      "cell_type": "code",
      "source": "Below are a few examples of evaluating arithmetic expressions in Python\n",
      "metadata": {},
      "execution_count": null,
      "outputs": []
    },
    {
      "cell_type": "code",
      "source": "200+300*2",
      "metadata": {
        "trusted": true
      },
      "execution_count": 1,
      "outputs": [
        {
          "execution_count": 1,
          "output_type": "execute_result",
          "data": {
            "text/plain": "800"
          },
          "metadata": {}
        }
      ]
    },
    {
      "cell_type": "code",
      "source": "hours, minutes = divmod(200, 60)\nprint(hours) ",
      "metadata": {
        "trusted": true
      },
      "execution_count": 8,
      "outputs": [
        {
          "name": "stdout",
          "text": "3\n",
          "output_type": "stream"
        }
      ]
    },
    {
      "cell_type": "code",
      "source": "objectives\nlearning SQL and python\nreconize the benifites of R\nCeartion of github and Sharing ",
      "metadata": {
        "tags": []
      },
      "execution_count": null,
      "outputs": []
    },
    {
      "cell_type": "code",
      "source": "Author\n\nJAhanzaib \nAbdul jalil",
      "metadata": {},
      "execution_count": null,
      "outputs": []
    },
    {
      "cell_type": "code",
      "source": "Change Log\nDate (YYYY-MM-DD)\tVersion\tChanged By\tChange Description\n2022-09-30\t0.1\tJahanzaib\tCreated Initial version\n",
      "metadata": {},
      "execution_count": null,
      "outputs": []
    }
  ]
}