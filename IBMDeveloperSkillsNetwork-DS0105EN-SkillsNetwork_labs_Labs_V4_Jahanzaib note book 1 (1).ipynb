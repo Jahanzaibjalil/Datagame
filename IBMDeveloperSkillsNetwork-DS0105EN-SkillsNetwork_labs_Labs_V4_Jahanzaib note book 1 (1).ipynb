{
  "metadata": {
    "language_info": {
      "codemirror_mode": {
        "name": "python",
        "version": 3
      },
      "file_extension": ".py",
      "mimetype": "text/x-python",
      "name": "python",
      "nbconvert_exporter": "python",
      "pygments_lexer": "ipython3",
      "version": "3.8"
    },
    "kernelspec": {
      "name": "python",
      "display_name": "Python (Pyodide)",
      "language": "python"
    }
  },
  "nbformat_minor": 4,
  "nbformat": 4,
  "cells": [
    {
      "cell_type": "code",
      "source": "1) Tital\n#  Data Science Tools and Ecosystem",
      "metadata": {},
      "execution_count": null,
      "outputs": []
    },
    {
      "cell_type": "code",
      "source": "2)  Introduction\n\nIn the rapidly evolving landscape of data science, professionals rely on a diverse set of tools, languages, and libraries to harness the power of data. This notebook serves as a comprehensive guide to the essential components of the data science ecosystem. From programming languages used for data analysis to libraries that simplify complex tasks, we'll explore the key building blocks that empower data scientists in their work.\n\nThrough this exploration, you'll gain insights into the prominent languages preferred by data scientists and discover the libraries that enable efficient data manipulation, visualization, and machine learning. We'll also introduce you to open-source tools that provide development environments tailored to the unique demands of data science projects.\n\nAdditionally, we'll delve into practical examples, including arithmetic expressions, to demonstrate how these tools and languages can be applied in real-world scenarios. By the end of this notebook, you'll not only be familiar with the core elements of the data science ecosystem but also equipped with knowledge that can kickstart your journey into the fascinating world of data science.",
      "metadata": {},
      "execution_count": null,
      "outputs": []
    },
    {
      "cell_type": "code",
      "source": "3)  In this notebook, we delve into the rich landscape of data science tools and the broader ecosystem that empowers data professionals to extract insights, build models, and make informed decisions.",
      "metadata": {},
      "execution_count": null,
      "outputs": []
    },
    {
      "cell_type": "code",
      "source": "4) Overview:\n\nIn the realm of data science, a multitude of programming languages serves as the foundation for exploring, analyzing, and visualizing data. Let's take a closer look at some of the popular languages that data scientists commonly employ in their work.",
      "metadata": {},
      "execution_count": null,
      "outputs": []
    },
    {
      "cell_type": "code",
      "source": "5) Some of the commonly used libraries employed by Data Scientists include:\n\nNumPy: A fundamental package for scientific computing in Python.\nPandas: A powerful library for data manipulation and analysis.\nMatplotlib: A widely used library for creating static, animated, and interactive visualizations in Python.\nSeaborn: A data visualization library based on Matplotlib that provides a high-level interface for drawing attractive and informative statistical graphics.\nScikit-learn: A machine learning library that offers simple and efficient tools for data mining and data analysis.\nTensorFlow: An open-source machine learning framework developed by Google for building and training machine learning models.\nKeras: A high-level neural networks API written in Python that runs on top of other deep learning frameworks like TensorFlow and Theano.\nNLTK (Natural Language Toolkit): A library for working with human language data, which is often used in natural language processing (NLP) tasks.\nThese libraries play a crucial role in various stages of data analysis and machine learning, enabling data scientists to work efficiently and effectively.",
      "metadata": {},
      "execution_count": null,
      "outputs": []
    },
    {
      "cell_type": "code",
      "source": "200+300*2",
      "metadata": {
        "trusted": true
      },
      "execution_count": 1,
      "outputs": [
        {
          "execution_count": 1,
          "output_type": "execute_result",
          "data": {
            "text/plain": "800"
          },
          "metadata": {}
        }
      ]
    },
    {
      "cell_type": "code",
      "source": "Change Log\nDate (YYYY-MM-DD)\tVersion\tChanged By\tChange Description\n2022-09-30\t0.1\tJahanzaib\tCreated Initial version\n",
      "metadata": {},
      "execution_count": null,
      "outputs": []
    }
  ]
}